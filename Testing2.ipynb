{
  "nbformat": 4,
  "nbformat_minor": 0,
  "metadata": {
    "colab": {
      "provenance": [],
      "authorship_tag": "ABX9TyP1Qjv9YiiHhFr3WeGZs0Er",
      "include_colab_link": true
    },
    "kernelspec": {
      "name": "python3",
      "display_name": "Python 3"
    },
    "language_info": {
      "name": "python"
    }
  },
  "cells": [
    {
      "cell_type": "markdown",
      "metadata": {
        "id": "view-in-github",
        "colab_type": "text"
      },
      "source": [
        "<a href=\"https://colab.research.google.com/github/rahmanziaur/TestRepoForEDGE/blob/main/Testing2.ipynb\" target=\"_parent\"><img src=\"https://colab.research.google.com/assets/colab-badge.svg\" alt=\"Open In Colab\"/></a>"
      ]
    },
    {
      "cell_type": "markdown",
      "source": [
        "**Testing conditional statment**\n",
        "\n",
        "Here I have tried how a simple *if-else* works on Python."
      ],
      "metadata": {
        "id": "PRE8YGrMeGQp"
      }
    },
    {
      "cell_type": "code",
      "execution_count": 1,
      "metadata": {
        "colab": {
          "base_uri": "https://localhost:8080/"
        },
        "id": "MNoOI7KJdppR",
        "outputId": "39275132-13d4-4168-fe17-b2994f770056"
      },
      "outputs": [
        {
          "output_type": "stream",
          "name": "stdout",
          "text": [
            "Enter an interger45\n",
            "More\n"
          ]
        }
      ],
      "source": [
        "x = int(input(\"Enter an interger\"))\n",
        "\n",
        "if x < 1:\n",
        "  x = 0\n",
        "  print(\"negative change to zero\")\n",
        "elif x == 0:\n",
        "  print(\"Zero\")\n",
        "elif x ==1:\n",
        "  print(\"Single\")\n",
        "else:\n",
        "  print(\"More\")"
      ]
    }
  ]
}